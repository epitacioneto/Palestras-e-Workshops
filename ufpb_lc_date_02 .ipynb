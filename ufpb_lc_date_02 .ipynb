{
  "nbformat": 4,
  "nbformat_minor": 0,
  "metadata": {
    "kernelspec": {
      "display_name": "Python 3",
      "language": "python",
      "name": "python3"
    },
    "language_info": {
      "codemirror_mode": {
        "name": "ipython",
        "version": 3
      },
      "file_extension": ".py",
      "mimetype": "text/x-python",
      "name": "python",
      "nbconvert_exporter": "python",
      "pygments_lexer": "ipython3",
      "version": "3.8.5"
    },
    "colab": {
      "name": "ufpb_lc_date_02.ipynb",
      "provenance": [],
      "collapsed_sections": []
    }
  },
  "cells": [
    {
      "cell_type": "markdown",
      "metadata": {
        "id": "ZYz2P6hlhp34"
      },
      "source": [
        "\n",
        "# Risco de Crédito\n",
        "\n",
        "## Financiamento de Veículos\n",
        "\n",
        "### Primeira análise\n",
        "\n",
        "- Criar um modelo que determina qual o risco de uma pessoa entrar em inadimplência caso ela contrate crédito comigo - PD (probability of default)"
      ]
    },
    {
      "cell_type": "code",
      "metadata": {
        "id": "xoKVyfqghp36"
      },
      "source": [
        "import numpy as np\n",
        "import pandas as pd\n",
        "\n",
        "from sklearn.model_selection import train_test_split\n",
        "from sklearn.tree import DecisionTreeClassifier\n",
        "from sklearn.neighbors import KNeighborsClassifier\n",
        "from sklearn.impute import SimpleImputer\n",
        "from sklearn.metrics import roc_auc_score\n",
        "from sklearn.preprocessing import StandardScaler, FunctionTransformer, OneHotEncoder\n",
        "from sklearn.base import TransformerMixin\n",
        "from sklearn.compose import ColumnTransformer"
      ],
      "execution_count": null,
      "outputs": []
    },
    {
      "cell_type": "code",
      "metadata": {
        "id": "hphpl6Oihp37"
      },
      "source": [
        "df = pd.read_csv('/Users/rguedes/Desktop/home-credit-default-risk/application_train.csv')"
      ],
      "execution_count": null,
      "outputs": []
    },
    {
      "cell_type": "code",
      "metadata": {
        "id": "b2Kfnytjhp37",
        "outputId": "685e881e-6cf8-4947-c544-b5c91d4d01d1"
      },
      "source": [
        "df.head()"
      ],
      "execution_count": null,
      "outputs": [
        {
          "output_type": "execute_result",
          "data": {
            "text/html": [
              "<div>\n",
              "<style scoped>\n",
              "    .dataframe tbody tr th:only-of-type {\n",
              "        vertical-align: middle;\n",
              "    }\n",
              "\n",
              "    .dataframe tbody tr th {\n",
              "        vertical-align: top;\n",
              "    }\n",
              "\n",
              "    .dataframe thead th {\n",
              "        text-align: right;\n",
              "    }\n",
              "</style>\n",
              "<table border=\"1\" class=\"dataframe\">\n",
              "  <thead>\n",
              "    <tr style=\"text-align: right;\">\n",
              "      <th></th>\n",
              "      <th>SK_ID_CURR</th>\n",
              "      <th>TARGET</th>\n",
              "      <th>NAME_CONTRACT_TYPE</th>\n",
              "      <th>CODE_GENDER</th>\n",
              "      <th>FLAG_OWN_CAR</th>\n",
              "      <th>FLAG_OWN_REALTY</th>\n",
              "      <th>CNT_CHILDREN</th>\n",
              "      <th>AMT_INCOME_TOTAL</th>\n",
              "      <th>AMT_CREDIT</th>\n",
              "      <th>AMT_ANNUITY</th>\n",
              "      <th>...</th>\n",
              "      <th>FLAG_DOCUMENT_18</th>\n",
              "      <th>FLAG_DOCUMENT_19</th>\n",
              "      <th>FLAG_DOCUMENT_20</th>\n",
              "      <th>FLAG_DOCUMENT_21</th>\n",
              "      <th>AMT_REQ_CREDIT_BUREAU_HOUR</th>\n",
              "      <th>AMT_REQ_CREDIT_BUREAU_DAY</th>\n",
              "      <th>AMT_REQ_CREDIT_BUREAU_WEEK</th>\n",
              "      <th>AMT_REQ_CREDIT_BUREAU_MON</th>\n",
              "      <th>AMT_REQ_CREDIT_BUREAU_QRT</th>\n",
              "      <th>AMT_REQ_CREDIT_BUREAU_YEAR</th>\n",
              "    </tr>\n",
              "  </thead>\n",
              "  <tbody>\n",
              "    <tr>\n",
              "      <th>0</th>\n",
              "      <td>456162</td>\n",
              "      <td>0</td>\n",
              "      <td>Cash loans</td>\n",
              "      <td>F</td>\n",
              "      <td>N</td>\n",
              "      <td>N</td>\n",
              "      <td>0</td>\n",
              "      <td>112500.0</td>\n",
              "      <td>700830.0</td>\n",
              "      <td>22738.5</td>\n",
              "      <td>...</td>\n",
              "      <td>0</td>\n",
              "      <td>0</td>\n",
              "      <td>0</td>\n",
              "      <td>0</td>\n",
              "      <td>0.0</td>\n",
              "      <td>0.0</td>\n",
              "      <td>0.0</td>\n",
              "      <td>0.0</td>\n",
              "      <td>0.0</td>\n",
              "      <td>1.0</td>\n",
              "    </tr>\n",
              "    <tr>\n",
              "      <th>1</th>\n",
              "      <td>134978</td>\n",
              "      <td>0</td>\n",
              "      <td>Cash loans</td>\n",
              "      <td>F</td>\n",
              "      <td>N</td>\n",
              "      <td>N</td>\n",
              "      <td>0</td>\n",
              "      <td>90000.0</td>\n",
              "      <td>375322.5</td>\n",
              "      <td>14422.5</td>\n",
              "      <td>...</td>\n",
              "      <td>0</td>\n",
              "      <td>0</td>\n",
              "      <td>0</td>\n",
              "      <td>0</td>\n",
              "      <td>0.0</td>\n",
              "      <td>0.0</td>\n",
              "      <td>0.0</td>\n",
              "      <td>1.0</td>\n",
              "      <td>0.0</td>\n",
              "      <td>3.0</td>\n",
              "    </tr>\n",
              "    <tr>\n",
              "      <th>2</th>\n",
              "      <td>318952</td>\n",
              "      <td>0</td>\n",
              "      <td>Cash loans</td>\n",
              "      <td>M</td>\n",
              "      <td>Y</td>\n",
              "      <td>N</td>\n",
              "      <td>0</td>\n",
              "      <td>180000.0</td>\n",
              "      <td>544491.0</td>\n",
              "      <td>16047.0</td>\n",
              "      <td>...</td>\n",
              "      <td>0</td>\n",
              "      <td>0</td>\n",
              "      <td>0</td>\n",
              "      <td>0</td>\n",
              "      <td>0.0</td>\n",
              "      <td>0.0</td>\n",
              "      <td>0.0</td>\n",
              "      <td>1.0</td>\n",
              "      <td>1.0</td>\n",
              "      <td>3.0</td>\n",
              "    </tr>\n",
              "    <tr>\n",
              "      <th>3</th>\n",
              "      <td>361264</td>\n",
              "      <td>0</td>\n",
              "      <td>Cash loans</td>\n",
              "      <td>F</td>\n",
              "      <td>N</td>\n",
              "      <td>Y</td>\n",
              "      <td>0</td>\n",
              "      <td>270000.0</td>\n",
              "      <td>814041.0</td>\n",
              "      <td>28971.0</td>\n",
              "      <td>...</td>\n",
              "      <td>0</td>\n",
              "      <td>0</td>\n",
              "      <td>0</td>\n",
              "      <td>0</td>\n",
              "      <td>0.0</td>\n",
              "      <td>0.0</td>\n",
              "      <td>0.0</td>\n",
              "      <td>0.0</td>\n",
              "      <td>1.0</td>\n",
              "      <td>4.0</td>\n",
              "    </tr>\n",
              "    <tr>\n",
              "      <th>4</th>\n",
              "      <td>260639</td>\n",
              "      <td>0</td>\n",
              "      <td>Cash loans</td>\n",
              "      <td>F</td>\n",
              "      <td>N</td>\n",
              "      <td>Y</td>\n",
              "      <td>0</td>\n",
              "      <td>144000.0</td>\n",
              "      <td>675000.0</td>\n",
              "      <td>21906.0</td>\n",
              "      <td>...</td>\n",
              "      <td>0</td>\n",
              "      <td>0</td>\n",
              "      <td>0</td>\n",
              "      <td>0</td>\n",
              "      <td>0.0</td>\n",
              "      <td>0.0</td>\n",
              "      <td>0.0</td>\n",
              "      <td>10.0</td>\n",
              "      <td>0.0</td>\n",
              "      <td>0.0</td>\n",
              "    </tr>\n",
              "  </tbody>\n",
              "</table>\n",
              "<p>5 rows × 122 columns</p>\n",
              "</div>"
            ],
            "text/plain": [
              "   SK_ID_CURR  TARGET NAME_CONTRACT_TYPE CODE_GENDER FLAG_OWN_CAR  \\\n",
              "0      456162       0         Cash loans           F            N   \n",
              "1      134978       0         Cash loans           F            N   \n",
              "2      318952       0         Cash loans           M            Y   \n",
              "3      361264       0         Cash loans           F            N   \n",
              "4      260639       0         Cash loans           F            N   \n",
              "\n",
              "  FLAG_OWN_REALTY  CNT_CHILDREN  AMT_INCOME_TOTAL  AMT_CREDIT  AMT_ANNUITY  \\\n",
              "0               N             0          112500.0    700830.0      22738.5   \n",
              "1               N             0           90000.0    375322.5      14422.5   \n",
              "2               N             0          180000.0    544491.0      16047.0   \n",
              "3               Y             0          270000.0    814041.0      28971.0   \n",
              "4               Y             0          144000.0    675000.0      21906.0   \n",
              "\n",
              "   ...  FLAG_DOCUMENT_18 FLAG_DOCUMENT_19 FLAG_DOCUMENT_20 FLAG_DOCUMENT_21  \\\n",
              "0  ...                 0                0                0                0   \n",
              "1  ...                 0                0                0                0   \n",
              "2  ...                 0                0                0                0   \n",
              "3  ...                 0                0                0                0   \n",
              "4  ...                 0                0                0                0   \n",
              "\n",
              "  AMT_REQ_CREDIT_BUREAU_HOUR AMT_REQ_CREDIT_BUREAU_DAY  \\\n",
              "0                        0.0                       0.0   \n",
              "1                        0.0                       0.0   \n",
              "2                        0.0                       0.0   \n",
              "3                        0.0                       0.0   \n",
              "4                        0.0                       0.0   \n",
              "\n",
              "   AMT_REQ_CREDIT_BUREAU_WEEK  AMT_REQ_CREDIT_BUREAU_MON  \\\n",
              "0                         0.0                        0.0   \n",
              "1                         0.0                        1.0   \n",
              "2                         0.0                        1.0   \n",
              "3                         0.0                        0.0   \n",
              "4                         0.0                       10.0   \n",
              "\n",
              "   AMT_REQ_CREDIT_BUREAU_QRT  AMT_REQ_CREDIT_BUREAU_YEAR  \n",
              "0                        0.0                         1.0  \n",
              "1                        0.0                         3.0  \n",
              "2                        1.0                         3.0  \n",
              "3                        1.0                         4.0  \n",
              "4                        0.0                         0.0  \n",
              "\n",
              "[5 rows x 122 columns]"
            ]
          },
          "metadata": {
            "tags": []
          },
          "execution_count": 6
        }
      ]
    },
    {
      "cell_type": "code",
      "metadata": {
        "id": "AhSjxsYAhp38",
        "outputId": "c384e141-916f-484b-8c19-0e46f0ce5353"
      },
      "source": [
        "df.shape"
      ],
      "execution_count": null,
      "outputs": [
        {
          "output_type": "execute_result",
          "data": {
            "text/plain": [
              "(246008, 122)"
            ]
          },
          "metadata": {
            "tags": []
          },
          "execution_count": 7
        }
      ]
    },
    {
      "cell_type": "code",
      "metadata": {
        "id": "_ONxX7z5hp39",
        "outputId": "532dcc9d-fc70-4e4c-db1f-ecfd6e46dffb"
      },
      "source": [
        "df.tail()"
      ],
      "execution_count": null,
      "outputs": [
        {
          "output_type": "execute_result",
          "data": {
            "text/html": [
              "<div>\n",
              "<style scoped>\n",
              "    .dataframe tbody tr th:only-of-type {\n",
              "        vertical-align: middle;\n",
              "    }\n",
              "\n",
              "    .dataframe tbody tr th {\n",
              "        vertical-align: top;\n",
              "    }\n",
              "\n",
              "    .dataframe thead th {\n",
              "        text-align: right;\n",
              "    }\n",
              "</style>\n",
              "<table border=\"1\" class=\"dataframe\">\n",
              "  <thead>\n",
              "    <tr style=\"text-align: right;\">\n",
              "      <th></th>\n",
              "      <th>SK_ID_CURR</th>\n",
              "      <th>TARGET</th>\n",
              "      <th>NAME_CONTRACT_TYPE</th>\n",
              "      <th>CODE_GENDER</th>\n",
              "      <th>FLAG_OWN_CAR</th>\n",
              "      <th>FLAG_OWN_REALTY</th>\n",
              "      <th>CNT_CHILDREN</th>\n",
              "      <th>AMT_INCOME_TOTAL</th>\n",
              "      <th>AMT_CREDIT</th>\n",
              "      <th>AMT_ANNUITY</th>\n",
              "      <th>...</th>\n",
              "      <th>FLAG_DOCUMENT_18</th>\n",
              "      <th>FLAG_DOCUMENT_19</th>\n",
              "      <th>FLAG_DOCUMENT_20</th>\n",
              "      <th>FLAG_DOCUMENT_21</th>\n",
              "      <th>AMT_REQ_CREDIT_BUREAU_HOUR</th>\n",
              "      <th>AMT_REQ_CREDIT_BUREAU_DAY</th>\n",
              "      <th>AMT_REQ_CREDIT_BUREAU_WEEK</th>\n",
              "      <th>AMT_REQ_CREDIT_BUREAU_MON</th>\n",
              "      <th>AMT_REQ_CREDIT_BUREAU_QRT</th>\n",
              "      <th>AMT_REQ_CREDIT_BUREAU_YEAR</th>\n",
              "    </tr>\n",
              "  </thead>\n",
              "  <tbody>\n",
              "    <tr>\n",
              "      <th>246003</th>\n",
              "      <td>242114</td>\n",
              "      <td>0</td>\n",
              "      <td>Cash loans</td>\n",
              "      <td>F</td>\n",
              "      <td>N</td>\n",
              "      <td>Y</td>\n",
              "      <td>1</td>\n",
              "      <td>270000.0</td>\n",
              "      <td>1172470.5</td>\n",
              "      <td>34411.5</td>\n",
              "      <td>...</td>\n",
              "      <td>0</td>\n",
              "      <td>0</td>\n",
              "      <td>0</td>\n",
              "      <td>0</td>\n",
              "      <td>0.0</td>\n",
              "      <td>0.0</td>\n",
              "      <td>0.0</td>\n",
              "      <td>1.0</td>\n",
              "      <td>0.0</td>\n",
              "      <td>8.0</td>\n",
              "    </tr>\n",
              "    <tr>\n",
              "      <th>246004</th>\n",
              "      <td>452374</td>\n",
              "      <td>0</td>\n",
              "      <td>Cash loans</td>\n",
              "      <td>F</td>\n",
              "      <td>N</td>\n",
              "      <td>Y</td>\n",
              "      <td>0</td>\n",
              "      <td>180000.0</td>\n",
              "      <td>654498.0</td>\n",
              "      <td>27859.5</td>\n",
              "      <td>...</td>\n",
              "      <td>0</td>\n",
              "      <td>0</td>\n",
              "      <td>0</td>\n",
              "      <td>0</td>\n",
              "      <td>0.0</td>\n",
              "      <td>0.0</td>\n",
              "      <td>0.0</td>\n",
              "      <td>0.0</td>\n",
              "      <td>0.0</td>\n",
              "      <td>2.0</td>\n",
              "    </tr>\n",
              "    <tr>\n",
              "      <th>246005</th>\n",
              "      <td>276545</td>\n",
              "      <td>1</td>\n",
              "      <td>Revolving loans</td>\n",
              "      <td>M</td>\n",
              "      <td>N</td>\n",
              "      <td>N</td>\n",
              "      <td>1</td>\n",
              "      <td>112500.0</td>\n",
              "      <td>270000.0</td>\n",
              "      <td>13500.0</td>\n",
              "      <td>...</td>\n",
              "      <td>0</td>\n",
              "      <td>0</td>\n",
              "      <td>0</td>\n",
              "      <td>0</td>\n",
              "      <td>NaN</td>\n",
              "      <td>NaN</td>\n",
              "      <td>NaN</td>\n",
              "      <td>NaN</td>\n",
              "      <td>NaN</td>\n",
              "      <td>NaN</td>\n",
              "    </tr>\n",
              "    <tr>\n",
              "      <th>246006</th>\n",
              "      <td>236776</td>\n",
              "      <td>1</td>\n",
              "      <td>Cash loans</td>\n",
              "      <td>M</td>\n",
              "      <td>Y</td>\n",
              "      <td>N</td>\n",
              "      <td>3</td>\n",
              "      <td>202500.0</td>\n",
              "      <td>204858.0</td>\n",
              "      <td>17653.5</td>\n",
              "      <td>...</td>\n",
              "      <td>0</td>\n",
              "      <td>0</td>\n",
              "      <td>0</td>\n",
              "      <td>0</td>\n",
              "      <td>0.0</td>\n",
              "      <td>0.0</td>\n",
              "      <td>0.0</td>\n",
              "      <td>0.0</td>\n",
              "      <td>0.0</td>\n",
              "      <td>0.0</td>\n",
              "    </tr>\n",
              "    <tr>\n",
              "      <th>246007</th>\n",
              "      <td>454197</td>\n",
              "      <td>0</td>\n",
              "      <td>Cash loans</td>\n",
              "      <td>F</td>\n",
              "      <td>N</td>\n",
              "      <td>Y</td>\n",
              "      <td>2</td>\n",
              "      <td>81000.0</td>\n",
              "      <td>547344.0</td>\n",
              "      <td>23139.0</td>\n",
              "      <td>...</td>\n",
              "      <td>0</td>\n",
              "      <td>0</td>\n",
              "      <td>0</td>\n",
              "      <td>0</td>\n",
              "      <td>0.0</td>\n",
              "      <td>0.0</td>\n",
              "      <td>0.0</td>\n",
              "      <td>0.0</td>\n",
              "      <td>0.0</td>\n",
              "      <td>5.0</td>\n",
              "    </tr>\n",
              "  </tbody>\n",
              "</table>\n",
              "<p>5 rows × 122 columns</p>\n",
              "</div>"
            ],
            "text/plain": [
              "        SK_ID_CURR  TARGET NAME_CONTRACT_TYPE CODE_GENDER FLAG_OWN_CAR  \\\n",
              "246003      242114       0         Cash loans           F            N   \n",
              "246004      452374       0         Cash loans           F            N   \n",
              "246005      276545       1    Revolving loans           M            N   \n",
              "246006      236776       1         Cash loans           M            Y   \n",
              "246007      454197       0         Cash loans           F            N   \n",
              "\n",
              "       FLAG_OWN_REALTY  CNT_CHILDREN  AMT_INCOME_TOTAL  AMT_CREDIT  \\\n",
              "246003               Y             1          270000.0   1172470.5   \n",
              "246004               Y             0          180000.0    654498.0   \n",
              "246005               N             1          112500.0    270000.0   \n",
              "246006               N             3          202500.0    204858.0   \n",
              "246007               Y             2           81000.0    547344.0   \n",
              "\n",
              "        AMT_ANNUITY  ...  FLAG_DOCUMENT_18 FLAG_DOCUMENT_19 FLAG_DOCUMENT_20  \\\n",
              "246003      34411.5  ...                 0                0                0   \n",
              "246004      27859.5  ...                 0                0                0   \n",
              "246005      13500.0  ...                 0                0                0   \n",
              "246006      17653.5  ...                 0                0                0   \n",
              "246007      23139.0  ...                 0                0                0   \n",
              "\n",
              "       FLAG_DOCUMENT_21 AMT_REQ_CREDIT_BUREAU_HOUR AMT_REQ_CREDIT_BUREAU_DAY  \\\n",
              "246003                0                        0.0                       0.0   \n",
              "246004                0                        0.0                       0.0   \n",
              "246005                0                        NaN                       NaN   \n",
              "246006                0                        0.0                       0.0   \n",
              "246007                0                        0.0                       0.0   \n",
              "\n",
              "        AMT_REQ_CREDIT_BUREAU_WEEK  AMT_REQ_CREDIT_BUREAU_MON  \\\n",
              "246003                         0.0                        1.0   \n",
              "246004                         0.0                        0.0   \n",
              "246005                         NaN                        NaN   \n",
              "246006                         0.0                        0.0   \n",
              "246007                         0.0                        0.0   \n",
              "\n",
              "        AMT_REQ_CREDIT_BUREAU_QRT  AMT_REQ_CREDIT_BUREAU_YEAR  \n",
              "246003                        0.0                         8.0  \n",
              "246004                        0.0                         2.0  \n",
              "246005                        NaN                         NaN  \n",
              "246006                        0.0                         0.0  \n",
              "246007                        0.0                         5.0  \n",
              "\n",
              "[5 rows x 122 columns]"
            ]
          },
          "metadata": {
            "tags": []
          },
          "execution_count": 8
        }
      ]
    },
    {
      "cell_type": "code",
      "metadata": {
        "id": "ID1D-tqDhp39",
        "outputId": "d50e11fa-720c-4006-e136-b9c606b77d8b"
      },
      "source": [
        "df.TARGET.value_counts(normalize = True, dropna = False)"
      ],
      "execution_count": null,
      "outputs": [
        {
          "output_type": "execute_result",
          "data": {
            "text/plain": [
              "0    0.918824\n",
              "1    0.081176\n",
              "Name: TARGET, dtype: float64"
            ]
          },
          "metadata": {
            "tags": []
          },
          "execution_count": 9
        }
      ]
    },
    {
      "cell_type": "code",
      "metadata": {
        "id": "CbqpmGyrhp39",
        "outputId": "6ee23291-f2aa-4b49-8ed3-16a0aa6a435b"
      },
      "source": [
        "var_num = df.dtypes['CODE_GENDER':][df.dtypes['CODE_GENDER':] != 'object'].index\n",
        "var_num"
      ],
      "execution_count": null,
      "outputs": [
        {
          "output_type": "execute_result",
          "data": {
            "text/plain": [
              "Index(['CNT_CHILDREN', 'AMT_INCOME_TOTAL', 'AMT_CREDIT', 'AMT_ANNUITY',\n",
              "       'AMT_GOODS_PRICE', 'REGION_POPULATION_RELATIVE', 'DAYS_BIRTH',\n",
              "       'DAYS_EMPLOYED', 'DAYS_REGISTRATION', 'DAYS_ID_PUBLISH',\n",
              "       ...\n",
              "       'FLAG_DOCUMENT_18', 'FLAG_DOCUMENT_19', 'FLAG_DOCUMENT_20',\n",
              "       'FLAG_DOCUMENT_21', 'AMT_REQ_CREDIT_BUREAU_HOUR',\n",
              "       'AMT_REQ_CREDIT_BUREAU_DAY', 'AMT_REQ_CREDIT_BUREAU_WEEK',\n",
              "       'AMT_REQ_CREDIT_BUREAU_MON', 'AMT_REQ_CREDIT_BUREAU_QRT',\n",
              "       'AMT_REQ_CREDIT_BUREAU_YEAR'],\n",
              "      dtype='object', length=104)"
            ]
          },
          "metadata": {
            "tags": []
          },
          "execution_count": 10
        }
      ]
    },
    {
      "cell_type": "code",
      "metadata": {
        "id": "M6NUGUmVhp3-"
      },
      "source": [
        "df_treino, df_teste = train_test_split(df, test_size = 0.2, random_state = 1)\n",
        "df_treino, df_teste = df_treino.copy(), df_teste.copy()"
      ],
      "execution_count": null,
      "outputs": []
    },
    {
      "cell_type": "code",
      "metadata": {
        "id": "9rY4_j1Lhp3-",
        "outputId": "f8be01bd-948c-4286-c08f-55d388771bfe"
      },
      "source": [
        "df_treino.TARGET.value_counts(True)"
      ],
      "execution_count": null,
      "outputs": [
        {
          "output_type": "execute_result",
          "data": {
            "text/plain": [
              "0    0.919235\n",
              "1    0.080765\n",
              "Name: TARGET, dtype: float64"
            ]
          },
          "metadata": {
            "tags": []
          },
          "execution_count": 142
        }
      ]
    },
    {
      "cell_type": "code",
      "metadata": {
        "id": "KNcYGhZthp3-",
        "outputId": "6a6c2664-9976-4818-adf7-bc97a0811673"
      },
      "source": [
        "df_teste.TARGET.value_counts(True)"
      ],
      "execution_count": null,
      "outputs": [
        {
          "output_type": "execute_result",
          "data": {
            "text/plain": [
              "0    0.917178\n",
              "1    0.082822\n",
              "Name: TARGET, dtype: float64"
            ]
          },
          "metadata": {
            "tags": []
          },
          "execution_count": 143
        }
      ]
    },
    {
      "cell_type": "code",
      "metadata": {
        "id": "p3pElmOthp3_"
      },
      "source": [
        "x_treino = df_treino[var_num]\n",
        "x_teste = df_teste[var_num]\n",
        "\n",
        "y_treino = df_treino['TARGET']\n",
        "y_teste = df_teste['TARGET']"
      ],
      "execution_count": null,
      "outputs": []
    },
    {
      "cell_type": "code",
      "metadata": {
        "id": "EIUlwCfPhp3_"
      },
      "source": [
        "si = SimpleImputer(strategy = 'median')\n",
        "si.fit(x_treino)\n",
        "x_treino = pd.DataFrame(si.transform(x_treino), columns = x_treino.columns)\n",
        "x_teste = pd.DataFrame(si.transform(x_teste), columns = x_teste.columns)"
      ],
      "execution_count": null,
      "outputs": []
    },
    {
      "cell_type": "code",
      "metadata": {
        "id": "MXAduVQihp3_",
        "outputId": "0925e101-6f6f-4acd-c914-6673963ba1ae"
      },
      "source": [
        "%%time\n",
        "modelo = DecisionTreeClassifier(max_depth = 8, random_state = 1)\n",
        "modelo.fit(x_treino, y_treino)"
      ],
      "execution_count": null,
      "outputs": [
        {
          "output_type": "stream",
          "text": [
            "CPU times: user 5.65 s, sys: 147 ms, total: 5.8 s\n",
            "Wall time: 9.53 s\n"
          ],
          "name": "stdout"
        },
        {
          "output_type": "execute_result",
          "data": {
            "text/plain": [
              "DecisionTreeClassifier(max_depth=8, random_state=1)"
            ]
          },
          "metadata": {
            "tags": []
          },
          "execution_count": 146
        }
      ]
    },
    {
      "cell_type": "code",
      "metadata": {
        "id": "6gJFbrChhp4A"
      },
      "source": [
        "y_pred_teste = modelo.predict_proba(x_teste)\n",
        "y_pred_teste = y_pred_teste[:, 1]"
      ],
      "execution_count": null,
      "outputs": []
    },
    {
      "cell_type": "code",
      "metadata": {
        "id": "ef8cNFR5hp4A",
        "outputId": "cb4d4cbb-d98c-4555-8d24-8fde6e1399aa"
      },
      "source": [
        "modelo.predict_proba(x_treino)"
      ],
      "execution_count": null,
      "outputs": [
        {
          "output_type": "execute_result",
          "data": {
            "text/plain": [
              "array([[0.95753947, 0.04246053],\n",
              "       [0.94359783, 0.05640217],\n",
              "       [0.93923323, 0.06076677],\n",
              "       ...,\n",
              "       [0.72526502, 0.27473498],\n",
              "       [0.91443693, 0.08556307],\n",
              "       [0.97174254, 0.02825746]])"
            ]
          },
          "metadata": {
            "tags": []
          },
          "execution_count": 148
        }
      ]
    },
    {
      "cell_type": "code",
      "metadata": {
        "id": "mSNKI_5Chp4A",
        "outputId": "bd3f620b-ec3a-40a6-b02a-cd1cc8b03c6c"
      },
      "source": [
        "roc_auc_score(y_teste, y_pred_teste)"
      ],
      "execution_count": null,
      "outputs": [
        {
          "output_type": "execute_result",
          "data": {
            "text/plain": [
              "0.7086774815887704"
            ]
          },
          "metadata": {
            "tags": []
          },
          "execution_count": 149
        }
      ]
    },
    {
      "cell_type": "markdown",
      "metadata": {
        "id": "CHTlqy28hp4A"
      },
      "source": [
        "## Pipeline"
      ]
    },
    {
      "cell_type": "code",
      "metadata": {
        "id": "yAASBig1hp4A"
      },
      "source": [
        "from sklearn.pipeline import Pipeline"
      ],
      "execution_count": null,
      "outputs": []
    },
    {
      "cell_type": "code",
      "metadata": {
        "id": "vkCQPdG1hp4B"
      },
      "source": [
        "var_num = list(df.dtypes['CODE_GENDER':][df.dtypes['CODE_GENDER':] != 'object'].index)\n",
        "var_edu = ['NAME_EDUCATION_TYPE']"
      ],
      "execution_count": null,
      "outputs": []
    },
    {
      "cell_type": "code",
      "metadata": {
        "id": "ziurHmqUhp4B"
      },
      "source": [
        "df_treino, df_teste = train_test_split(df, test_size = 0.2, random_state = 1)\n",
        "df_treino, df_teste = df_treino.copy(), df_teste.copy()\n",
        "\n",
        "x_treino = df_treino[var_num + var_edu]\n",
        "x_teste = df_teste[var_num + var_edu]\n",
        "\n",
        "y_treino = df_treino['TARGET']\n",
        "y_teste = df_teste['TARGET']"
      ],
      "execution_count": null,
      "outputs": []
    },
    {
      "cell_type": "code",
      "metadata": {
        "id": "V7Qut2Mqhp4B"
      },
      "source": [
        "pipe = Pipeline(steps = [\n",
        "    ('imputer', SimpleImputer(strategy = 'median')),\n",
        "    ('scaler', StandardScaler()),\n",
        "    ('modelo', KNeighborsClassifier())\n",
        "])"
      ],
      "execution_count": null,
      "outputs": []
    },
    {
      "cell_type": "code",
      "metadata": {
        "id": "uhGmrk5Vhp4B"
      },
      "source": [
        "pipe.fit(x_treino, y_treino)"
      ],
      "execution_count": null,
      "outputs": []
    },
    {
      "cell_type": "code",
      "metadata": {
        "id": "yqkOk4G4hp4B"
      },
      "source": [
        "y_pred_teste = pipe.predict_proba(x_teste)[:, 1]\n",
        "roc_auc_score(y_teste, y_pred_teste)"
      ],
      "execution_count": null,
      "outputs": []
    },
    {
      "cell_type": "code",
      "metadata": {
        "id": "DlPrUBtHhp4B",
        "outputId": "932a936d-1714-4190-cc2d-66cde25d4873"
      },
      "source": [
        "y_pred_teste = pipe.predict_proba(x_teste)[:, 1]\n",
        "roc_auc_score(y_teste, y_pred_teste)"
      ],
      "execution_count": null,
      "outputs": [
        {
          "output_type": "execute_result",
          "data": {
            "text/plain": [
              "0.708786754654655"
            ]
          },
          "metadata": {
            "tags": []
          },
          "execution_count": 157
        }
      ]
    },
    {
      "cell_type": "markdown",
      "metadata": {
        "id": "BAYFydLahp4C"
      },
      "source": [
        "## Tratando Múltiplas Variáveis de Formas Distintas"
      ]
    },
    {
      "cell_type": "code",
      "metadata": {
        "id": "OQ7G4CAehp4C"
      },
      "source": [
        "var_num = list(df.dtypes['CODE_GENDER':][df.dtypes['CODE_GENDER':] != 'object'].index)\n",
        "var_edu = ['NAME_EDUCATION_TYPE']\n",
        "var_cat = ['FLAG_OWN_CAR', 'FLAG_OWN_REALTY', 'OCCUPATION_TYPE']"
      ],
      "execution_count": null,
      "outputs": []
    },
    {
      "cell_type": "code",
      "metadata": {
        "id": "zZnxC4j4hp4C"
      },
      "source": [
        "df_treino, df_teste = train_test_split(df, test_size = 0.2, random_state = 1)\n",
        "df_treino, df_teste = df_treino.copy(), df_teste.copy()\n",
        "\n",
        "x_treino = df_treino[var_num + var_edu + var_cat]\n",
        "x_teste = df_teste[var_num + var_edu + var_cat]\n",
        "\n",
        "y_treino = df_treino['TARGET']\n",
        "y_teste = df_teste['TARGET']"
      ],
      "execution_count": null,
      "outputs": []
    },
    {
      "cell_type": "code",
      "metadata": {
        "id": "m3IliULehp4C",
        "outputId": "bac41f74-25b1-4dd1-f872-131221e8d374"
      },
      "source": [
        "pd.crosstab(df.TARGET, df.NAME_EDUCATION_TYPE, normalize = 'columns')"
      ],
      "execution_count": null,
      "outputs": [
        {
          "output_type": "execute_result",
          "data": {
            "text/html": [
              "<div>\n",
              "<style scoped>\n",
              "    .dataframe tbody tr th:only-of-type {\n",
              "        vertical-align: middle;\n",
              "    }\n",
              "\n",
              "    .dataframe tbody tr th {\n",
              "        vertical-align: top;\n",
              "    }\n",
              "\n",
              "    .dataframe thead th {\n",
              "        text-align: right;\n",
              "    }\n",
              "</style>\n",
              "<table border=\"1\" class=\"dataframe\">\n",
              "  <thead>\n",
              "    <tr style=\"text-align: right;\">\n",
              "      <th>NAME_EDUCATION_TYPE</th>\n",
              "      <th>Academic degree</th>\n",
              "      <th>Higher education</th>\n",
              "      <th>Incomplete higher</th>\n",
              "      <th>Lower secondary</th>\n",
              "      <th>Secondary / secondary special</th>\n",
              "    </tr>\n",
              "    <tr>\n",
              "      <th>TARGET</th>\n",
              "      <th></th>\n",
              "      <th></th>\n",
              "      <th></th>\n",
              "      <th></th>\n",
              "      <th></th>\n",
              "    </tr>\n",
              "  </thead>\n",
              "  <tbody>\n",
              "    <tr>\n",
              "      <th>0</th>\n",
              "      <td>0.977444</td>\n",
              "      <td>0.9463</td>\n",
              "      <td>0.912768</td>\n",
              "      <td>0.887816</td>\n",
              "      <td>0.910193</td>\n",
              "    </tr>\n",
              "    <tr>\n",
              "      <th>1</th>\n",
              "      <td>0.022556</td>\n",
              "      <td>0.0537</td>\n",
              "      <td>0.087232</td>\n",
              "      <td>0.112184</td>\n",
              "      <td>0.089807</td>\n",
              "    </tr>\n",
              "  </tbody>\n",
              "</table>\n",
              "</div>"
            ],
            "text/plain": [
              "NAME_EDUCATION_TYPE  Academic degree  Higher education  Incomplete higher  \\\n",
              "TARGET                                                                      \n",
              "0                           0.977444            0.9463           0.912768   \n",
              "1                           0.022556            0.0537           0.087232   \n",
              "\n",
              "NAME_EDUCATION_TYPE  Lower secondary  Secondary / secondary special  \n",
              "TARGET                                                               \n",
              "0                           0.887816                       0.910193  \n",
              "1                           0.112184                       0.089807  "
            ]
          },
          "metadata": {
            "tags": []
          },
          "execution_count": 17
        }
      ]
    },
    {
      "cell_type": "code",
      "metadata": {
        "id": "Jqk-Eyh0hp4C"
      },
      "source": [
        "def trata_educacao_(x):\n",
        "    if x == 'Lower secondary':\n",
        "        return 1\n",
        "    elif x == 'Secondary / secondary special':\n",
        "        return 2\n",
        "    elif x == 'Incomplete higher':\n",
        "        return 3\n",
        "    elif x == 'Higher education':\n",
        "        return 4\n",
        "    elif x == 'Academic degree':\n",
        "        return 5\n",
        "    else:\n",
        "        return -1\n",
        "    \n",
        "    \n",
        "def trata_educacao(tabela):\n",
        "    \n",
        "    tabela = tabela.copy()\n",
        "    \n",
        "    for coluna in tabela.columns:\n",
        "        if coluna == 'NAME_EDUCATION_TYPE':\n",
        "            tabela[coluna] = tabela[coluna].apply(trata_educacao_)\n",
        "            \n",
        "    return tabela"
      ],
      "execution_count": null,
      "outputs": []
    },
    {
      "cell_type": "code",
      "metadata": {
        "id": "PzMoIwEMhp4D"
      },
      "source": [
        "class TrataEducacao(TransformerMixin):\n",
        "    \n",
        "    def fit(self, X, y):\n",
        "        ## fazer os devidos calculos em cima do X\n",
        "        pass\n",
        "        \n",
        "    def transform(self, X):\n",
        "        ## realiza a transformacao em cima do X\n",
        "        pass"
      ],
      "execution_count": null,
      "outputs": []
    },
    {
      "cell_type": "code",
      "metadata": {
        "id": "UN_wU8wGhp4D",
        "outputId": "9ee13a66-5501-4a3d-a6f9-f2c3d8887eb9"
      },
      "source": [
        "x_treino"
      ],
      "execution_count": null,
      "outputs": [
        {
          "output_type": "execute_result",
          "data": {
            "text/html": [
              "<div>\n",
              "<style scoped>\n",
              "    .dataframe tbody tr th:only-of-type {\n",
              "        vertical-align: middle;\n",
              "    }\n",
              "\n",
              "    .dataframe tbody tr th {\n",
              "        vertical-align: top;\n",
              "    }\n",
              "\n",
              "    .dataframe thead th {\n",
              "        text-align: right;\n",
              "    }\n",
              "</style>\n",
              "<table border=\"1\" class=\"dataframe\">\n",
              "  <thead>\n",
              "    <tr style=\"text-align: right;\">\n",
              "      <th></th>\n",
              "      <th>CNT_CHILDREN</th>\n",
              "      <th>AMT_INCOME_TOTAL</th>\n",
              "      <th>AMT_CREDIT</th>\n",
              "      <th>AMT_ANNUITY</th>\n",
              "      <th>AMT_GOODS_PRICE</th>\n",
              "      <th>REGION_POPULATION_RELATIVE</th>\n",
              "      <th>DAYS_BIRTH</th>\n",
              "      <th>DAYS_EMPLOYED</th>\n",
              "      <th>DAYS_REGISTRATION</th>\n",
              "      <th>DAYS_ID_PUBLISH</th>\n",
              "      <th>...</th>\n",
              "      <th>FLAG_DOCUMENT_19</th>\n",
              "      <th>FLAG_DOCUMENT_20</th>\n",
              "      <th>FLAG_DOCUMENT_21</th>\n",
              "      <th>AMT_REQ_CREDIT_BUREAU_HOUR</th>\n",
              "      <th>AMT_REQ_CREDIT_BUREAU_DAY</th>\n",
              "      <th>AMT_REQ_CREDIT_BUREAU_WEEK</th>\n",
              "      <th>AMT_REQ_CREDIT_BUREAU_MON</th>\n",
              "      <th>AMT_REQ_CREDIT_BUREAU_QRT</th>\n",
              "      <th>AMT_REQ_CREDIT_BUREAU_YEAR</th>\n",
              "      <th>NAME_EDUCATION_TYPE</th>\n",
              "    </tr>\n",
              "  </thead>\n",
              "  <tbody>\n",
              "    <tr>\n",
              "      <th>190148</th>\n",
              "      <td>0</td>\n",
              "      <td>94500.0</td>\n",
              "      <td>364896.0</td>\n",
              "      <td>16200.0</td>\n",
              "      <td>315000.0</td>\n",
              "      <td>0.020246</td>\n",
              "      <td>-22339</td>\n",
              "      <td>365243</td>\n",
              "      <td>-8079.0</td>\n",
              "      <td>-4831</td>\n",
              "      <td>...</td>\n",
              "      <td>0</td>\n",
              "      <td>0</td>\n",
              "      <td>0</td>\n",
              "      <td>0.0</td>\n",
              "      <td>0.0</td>\n",
              "      <td>0.0</td>\n",
              "      <td>0.0</td>\n",
              "      <td>0.0</td>\n",
              "      <td>0.0</td>\n",
              "      <td>Secondary / secondary special</td>\n",
              "    </tr>\n",
              "    <tr>\n",
              "      <th>189722</th>\n",
              "      <td>0</td>\n",
              "      <td>292500.0</td>\n",
              "      <td>478498.5</td>\n",
              "      <td>46741.5</td>\n",
              "      <td>454500.0</td>\n",
              "      <td>0.010006</td>\n",
              "      <td>-11802</td>\n",
              "      <td>-3676</td>\n",
              "      <td>-950.0</td>\n",
              "      <td>-4149</td>\n",
              "      <td>...</td>\n",
              "      <td>0</td>\n",
              "      <td>0</td>\n",
              "      <td>0</td>\n",
              "      <td>0.0</td>\n",
              "      <td>0.0</td>\n",
              "      <td>0.0</td>\n",
              "      <td>1.0</td>\n",
              "      <td>0.0</td>\n",
              "      <td>2.0</td>\n",
              "      <td>Secondary / secondary special</td>\n",
              "    </tr>\n",
              "    <tr>\n",
              "      <th>235486</th>\n",
              "      <td>0</td>\n",
              "      <td>81000.0</td>\n",
              "      <td>396171.0</td>\n",
              "      <td>21492.0</td>\n",
              "      <td>342000.0</td>\n",
              "      <td>0.031329</td>\n",
              "      <td>-8312</td>\n",
              "      <td>-425</td>\n",
              "      <td>-8288.0</td>\n",
              "      <td>-991</td>\n",
              "      <td>...</td>\n",
              "      <td>0</td>\n",
              "      <td>0</td>\n",
              "      <td>0</td>\n",
              "      <td>0.0</td>\n",
              "      <td>0.0</td>\n",
              "      <td>0.0</td>\n",
              "      <td>0.0</td>\n",
              "      <td>2.0</td>\n",
              "      <td>0.0</td>\n",
              "      <td>Secondary / secondary special</td>\n",
              "    </tr>\n",
              "    <tr>\n",
              "      <th>207577</th>\n",
              "      <td>0</td>\n",
              "      <td>117000.0</td>\n",
              "      <td>180000.0</td>\n",
              "      <td>18900.0</td>\n",
              "      <td>180000.0</td>\n",
              "      <td>0.031329</td>\n",
              "      <td>-11917</td>\n",
              "      <td>-1305</td>\n",
              "      <td>-5559.0</td>\n",
              "      <td>-4371</td>\n",
              "      <td>...</td>\n",
              "      <td>0</td>\n",
              "      <td>0</td>\n",
              "      <td>0</td>\n",
              "      <td>0.0</td>\n",
              "      <td>0.0</td>\n",
              "      <td>0.0</td>\n",
              "      <td>0.0</td>\n",
              "      <td>0.0</td>\n",
              "      <td>3.0</td>\n",
              "      <td>Secondary / secondary special</td>\n",
              "    </tr>\n",
              "    <tr>\n",
              "      <th>41697</th>\n",
              "      <td>0</td>\n",
              "      <td>238500.0</td>\n",
              "      <td>640080.0</td>\n",
              "      <td>29970.0</td>\n",
              "      <td>450000.0</td>\n",
              "      <td>0.046220</td>\n",
              "      <td>-8483</td>\n",
              "      <td>-1141</td>\n",
              "      <td>-6584.0</td>\n",
              "      <td>-1031</td>\n",
              "      <td>...</td>\n",
              "      <td>0</td>\n",
              "      <td>0</td>\n",
              "      <td>0</td>\n",
              "      <td>0.0</td>\n",
              "      <td>0.0</td>\n",
              "      <td>0.0</td>\n",
              "      <td>0.0</td>\n",
              "      <td>2.0</td>\n",
              "      <td>1.0</td>\n",
              "      <td>Incomplete higher</td>\n",
              "    </tr>\n",
              "    <tr>\n",
              "      <th>...</th>\n",
              "      <td>...</td>\n",
              "      <td>...</td>\n",
              "      <td>...</td>\n",
              "      <td>...</td>\n",
              "      <td>...</td>\n",
              "      <td>...</td>\n",
              "      <td>...</td>\n",
              "      <td>...</td>\n",
              "      <td>...</td>\n",
              "      <td>...</td>\n",
              "      <td>...</td>\n",
              "      <td>...</td>\n",
              "      <td>...</td>\n",
              "      <td>...</td>\n",
              "      <td>...</td>\n",
              "      <td>...</td>\n",
              "      <td>...</td>\n",
              "      <td>...</td>\n",
              "      <td>...</td>\n",
              "      <td>...</td>\n",
              "      <td>...</td>\n",
              "    </tr>\n",
              "    <tr>\n",
              "      <th>229119</th>\n",
              "      <td>1</td>\n",
              "      <td>103500.0</td>\n",
              "      <td>355536.0</td>\n",
              "      <td>14040.0</td>\n",
              "      <td>270000.0</td>\n",
              "      <td>0.030755</td>\n",
              "      <td>-13665</td>\n",
              "      <td>-381</td>\n",
              "      <td>-1688.0</td>\n",
              "      <td>-5510</td>\n",
              "      <td>...</td>\n",
              "      <td>0</td>\n",
              "      <td>0</td>\n",
              "      <td>0</td>\n",
              "      <td>0.0</td>\n",
              "      <td>0.0</td>\n",
              "      <td>0.0</td>\n",
              "      <td>0.0</td>\n",
              "      <td>0.0</td>\n",
              "      <td>0.0</td>\n",
              "      <td>Secondary / secondary special</td>\n",
              "    </tr>\n",
              "    <tr>\n",
              "      <th>5192</th>\n",
              "      <td>0</td>\n",
              "      <td>157500.0</td>\n",
              "      <td>630000.0</td>\n",
              "      <td>20452.5</td>\n",
              "      <td>630000.0</td>\n",
              "      <td>0.025164</td>\n",
              "      <td>-16955</td>\n",
              "      <td>-4012</td>\n",
              "      <td>-213.0</td>\n",
              "      <td>-483</td>\n",
              "      <td>...</td>\n",
              "      <td>0</td>\n",
              "      <td>0</td>\n",
              "      <td>0</td>\n",
              "      <td>0.0</td>\n",
              "      <td>0.0</td>\n",
              "      <td>0.0</td>\n",
              "      <td>0.0</td>\n",
              "      <td>0.0</td>\n",
              "      <td>1.0</td>\n",
              "      <td>Secondary / secondary special</td>\n",
              "    </tr>\n",
              "    <tr>\n",
              "      <th>208780</th>\n",
              "      <td>1</td>\n",
              "      <td>90000.0</td>\n",
              "      <td>523597.5</td>\n",
              "      <td>23193.0</td>\n",
              "      <td>468000.0</td>\n",
              "      <td>0.006852</td>\n",
              "      <td>-12842</td>\n",
              "      <td>-2297</td>\n",
              "      <td>-3436.0</td>\n",
              "      <td>-1986</td>\n",
              "      <td>...</td>\n",
              "      <td>0</td>\n",
              "      <td>0</td>\n",
              "      <td>0</td>\n",
              "      <td>0.0</td>\n",
              "      <td>0.0</td>\n",
              "      <td>0.0</td>\n",
              "      <td>0.0</td>\n",
              "      <td>0.0</td>\n",
              "      <td>1.0</td>\n",
              "      <td>Higher education</td>\n",
              "    </tr>\n",
              "    <tr>\n",
              "      <th>229611</th>\n",
              "      <td>0</td>\n",
              "      <td>180000.0</td>\n",
              "      <td>346500.0</td>\n",
              "      <td>18796.5</td>\n",
              "      <td>346500.0</td>\n",
              "      <td>0.008625</td>\n",
              "      <td>-21240</td>\n",
              "      <td>365243</td>\n",
              "      <td>-1555.0</td>\n",
              "      <td>-1555</td>\n",
              "      <td>...</td>\n",
              "      <td>0</td>\n",
              "      <td>0</td>\n",
              "      <td>0</td>\n",
              "      <td>0.0</td>\n",
              "      <td>0.0</td>\n",
              "      <td>1.0</td>\n",
              "      <td>0.0</td>\n",
              "      <td>0.0</td>\n",
              "      <td>1.0</td>\n",
              "      <td>Higher education</td>\n",
              "    </tr>\n",
              "    <tr>\n",
              "      <th>128037</th>\n",
              "      <td>1</td>\n",
              "      <td>117000.0</td>\n",
              "      <td>180000.0</td>\n",
              "      <td>9000.0</td>\n",
              "      <td>180000.0</td>\n",
              "      <td>0.046220</td>\n",
              "      <td>-9572</td>\n",
              "      <td>-1119</td>\n",
              "      <td>-358.0</td>\n",
              "      <td>-554</td>\n",
              "      <td>...</td>\n",
              "      <td>0</td>\n",
              "      <td>0</td>\n",
              "      <td>0</td>\n",
              "      <td>NaN</td>\n",
              "      <td>NaN</td>\n",
              "      <td>NaN</td>\n",
              "      <td>NaN</td>\n",
              "      <td>NaN</td>\n",
              "      <td>NaN</td>\n",
              "      <td>Secondary / secondary special</td>\n",
              "    </tr>\n",
              "  </tbody>\n",
              "</table>\n",
              "<p>196806 rows × 105 columns</p>\n",
              "</div>"
            ],
            "text/plain": [
              "        CNT_CHILDREN  AMT_INCOME_TOTAL  AMT_CREDIT  AMT_ANNUITY  \\\n",
              "190148             0           94500.0    364896.0      16200.0   \n",
              "189722             0          292500.0    478498.5      46741.5   \n",
              "235486             0           81000.0    396171.0      21492.0   \n",
              "207577             0          117000.0    180000.0      18900.0   \n",
              "41697              0          238500.0    640080.0      29970.0   \n",
              "...              ...               ...         ...          ...   \n",
              "229119             1          103500.0    355536.0      14040.0   \n",
              "5192               0          157500.0    630000.0      20452.5   \n",
              "208780             1           90000.0    523597.5      23193.0   \n",
              "229611             0          180000.0    346500.0      18796.5   \n",
              "128037             1          117000.0    180000.0       9000.0   \n",
              "\n",
              "        AMT_GOODS_PRICE  REGION_POPULATION_RELATIVE  DAYS_BIRTH  \\\n",
              "190148         315000.0                    0.020246      -22339   \n",
              "189722         454500.0                    0.010006      -11802   \n",
              "235486         342000.0                    0.031329       -8312   \n",
              "207577         180000.0                    0.031329      -11917   \n",
              "41697          450000.0                    0.046220       -8483   \n",
              "...                 ...                         ...         ...   \n",
              "229119         270000.0                    0.030755      -13665   \n",
              "5192           630000.0                    0.025164      -16955   \n",
              "208780         468000.0                    0.006852      -12842   \n",
              "229611         346500.0                    0.008625      -21240   \n",
              "128037         180000.0                    0.046220       -9572   \n",
              "\n",
              "        DAYS_EMPLOYED  DAYS_REGISTRATION  DAYS_ID_PUBLISH  ...  \\\n",
              "190148         365243            -8079.0            -4831  ...   \n",
              "189722          -3676             -950.0            -4149  ...   \n",
              "235486           -425            -8288.0             -991  ...   \n",
              "207577          -1305            -5559.0            -4371  ...   \n",
              "41697           -1141            -6584.0            -1031  ...   \n",
              "...               ...                ...              ...  ...   \n",
              "229119           -381            -1688.0            -5510  ...   \n",
              "5192            -4012             -213.0             -483  ...   \n",
              "208780          -2297            -3436.0            -1986  ...   \n",
              "229611         365243            -1555.0            -1555  ...   \n",
              "128037          -1119             -358.0             -554  ...   \n",
              "\n",
              "        FLAG_DOCUMENT_19  FLAG_DOCUMENT_20  FLAG_DOCUMENT_21  \\\n",
              "190148                 0                 0                 0   \n",
              "189722                 0                 0                 0   \n",
              "235486                 0                 0                 0   \n",
              "207577                 0                 0                 0   \n",
              "41697                  0                 0                 0   \n",
              "...                  ...               ...               ...   \n",
              "229119                 0                 0                 0   \n",
              "5192                   0                 0                 0   \n",
              "208780                 0                 0                 0   \n",
              "229611                 0                 0                 0   \n",
              "128037                 0                 0                 0   \n",
              "\n",
              "        AMT_REQ_CREDIT_BUREAU_HOUR  AMT_REQ_CREDIT_BUREAU_DAY  \\\n",
              "190148                         0.0                        0.0   \n",
              "189722                         0.0                        0.0   \n",
              "235486                         0.0                        0.0   \n",
              "207577                         0.0                        0.0   \n",
              "41697                          0.0                        0.0   \n",
              "...                            ...                        ...   \n",
              "229119                         0.0                        0.0   \n",
              "5192                           0.0                        0.0   \n",
              "208780                         0.0                        0.0   \n",
              "229611                         0.0                        0.0   \n",
              "128037                         NaN                        NaN   \n",
              "\n",
              "        AMT_REQ_CREDIT_BUREAU_WEEK  AMT_REQ_CREDIT_BUREAU_MON  \\\n",
              "190148                         0.0                        0.0   \n",
              "189722                         0.0                        1.0   \n",
              "235486                         0.0                        0.0   \n",
              "207577                         0.0                        0.0   \n",
              "41697                          0.0                        0.0   \n",
              "...                            ...                        ...   \n",
              "229119                         0.0                        0.0   \n",
              "5192                           0.0                        0.0   \n",
              "208780                         0.0                        0.0   \n",
              "229611                         1.0                        0.0   \n",
              "128037                         NaN                        NaN   \n",
              "\n",
              "        AMT_REQ_CREDIT_BUREAU_QRT  AMT_REQ_CREDIT_BUREAU_YEAR  \\\n",
              "190148                        0.0                         0.0   \n",
              "189722                        0.0                         2.0   \n",
              "235486                        2.0                         0.0   \n",
              "207577                        0.0                         3.0   \n",
              "41697                         2.0                         1.0   \n",
              "...                           ...                         ...   \n",
              "229119                        0.0                         0.0   \n",
              "5192                          0.0                         1.0   \n",
              "208780                        0.0                         1.0   \n",
              "229611                        0.0                         1.0   \n",
              "128037                        NaN                         NaN   \n",
              "\n",
              "                  NAME_EDUCATION_TYPE  \n",
              "190148  Secondary / secondary special  \n",
              "189722  Secondary / secondary special  \n",
              "235486  Secondary / secondary special  \n",
              "207577  Secondary / secondary special  \n",
              "41697               Incomplete higher  \n",
              "...                               ...  \n",
              "229119  Secondary / secondary special  \n",
              "5192    Secondary / secondary special  \n",
              "208780               Higher education  \n",
              "229611               Higher education  \n",
              "128037  Secondary / secondary special  \n",
              "\n",
              "[196806 rows x 105 columns]"
            ]
          },
          "metadata": {
            "tags": []
          },
          "execution_count": 41
        }
      ]
    },
    {
      "cell_type": "code",
      "metadata": {
        "id": "qXoN5ae_hp4D"
      },
      "source": [
        ""
      ],
      "execution_count": null,
      "outputs": []
    },
    {
      "cell_type": "code",
      "metadata": {
        "id": "FrinhWgmhp4D",
        "outputId": "e654bc9e-9356-4d56-93a8-4682ae9ad8e2"
      },
      "source": [
        "ohe = OneHotEncoder(drop = 'if_binary', sparse = False)\n",
        "ohe.fit(x_treino[['FLAG_OWN_CAR', 'FLAG_OWN_REALTY']])\n",
        "ohe.transform(x_treino[['FLAG_OWN_CAR', 'FLAG_OWN_REALTY']])"
      ],
      "execution_count": null,
      "outputs": [
        {
          "output_type": "execute_result",
          "data": {
            "text/plain": [
              "array([[0., 1.],\n",
              "       [1., 0.],\n",
              "       [1., 1.],\n",
              "       ...,\n",
              "       [0., 0.],\n",
              "       [0., 1.],\n",
              "       [1., 1.]])"
            ]
          },
          "metadata": {
            "tags": []
          },
          "execution_count": 64
        }
      ]
    },
    {
      "cell_type": "code",
      "metadata": {
        "id": "Mo6NrcsLhp4D"
      },
      "source": [
        "pipe_num = Pipeline(steps = [\n",
        "    ('imputer', SimpleImputer(strategy = 'median')),\n",
        "    ('scaler', StandardScaler())\n",
        "])\n",
        "\n",
        "pipe_edu = Pipeline(steps = [\n",
        "    ('educacao', FunctionTransformer(trata_educacao))\n",
        "])\n",
        "\n",
        "pipe_cat = Pipeline(steps = [\n",
        "    ('imputer', SimpleImputer(strategy = 'most_frequent')),\n",
        "    ('ohe', OneHotEncoder(drop = 'if_binary', sparse = False))\n",
        "    \n",
        "])\n",
        "\n",
        "tratar_variaveis = ColumnTransformer(transformers = [\n",
        "    ('num', pipe_num, var_num),\n",
        "    ('edu', pipe_edu, var_edu),\n",
        "    ('cat', pipe_cat, var_cat)  \n",
        "])\n",
        "\n",
        "pipe = Pipeline(steps = [\n",
        "    ('tratamento', tratar_variaveis),\n",
        "    ('modelo', DecisionTreeClassifier(max_depth = 9, random_state = 1))\n",
        "])"
      ],
      "execution_count": null,
      "outputs": []
    },
    {
      "cell_type": "code",
      "metadata": {
        "id": "gC344Snhhp4E",
        "outputId": "869b9671-b1c8-4010-be44-1373bbc3983b"
      },
      "source": [
        "pipe.fit(x_treino, y_treino)"
      ],
      "execution_count": null,
      "outputs": [
        {
          "output_type": "execute_result",
          "data": {
            "text/plain": [
              "Pipeline(steps=[('tratamento',\n",
              "                 ColumnTransformer(transformers=[('num',\n",
              "                                                  Pipeline(steps=[('imputer',\n",
              "                                                                   SimpleImputer(strategy='median')),\n",
              "                                                                  ('scaler',\n",
              "                                                                   StandardScaler())]),\n",
              "                                                  ['CNT_CHILDREN',\n",
              "                                                   'AMT_INCOME_TOTAL',\n",
              "                                                   'AMT_CREDIT', 'AMT_ANNUITY',\n",
              "                                                   'AMT_GOODS_PRICE',\n",
              "                                                   'REGION_POPULATION_RELATIVE',\n",
              "                                                   'DAYS_BIRTH',\n",
              "                                                   'DAYS_EMPLOYED',\n",
              "                                                   'DAYS_REGISTRATION',\n",
              "                                                   'DAYS_ID_PUBLISH',\n",
              "                                                   'OWN_CAR_AGE',...\n",
              "                                                  Pipeline(steps=[('educacao',\n",
              "                                                                   FunctionTransformer(func=<function trata_educacao at 0x1328a4670>))]),\n",
              "                                                  ['NAME_EDUCATION_TYPE']),\n",
              "                                                 ('cat',\n",
              "                                                  Pipeline(steps=[('imputer',\n",
              "                                                                   SimpleImputer(strategy='most_frequent')),\n",
              "                                                                  ('ohe',\n",
              "                                                                   OneHotEncoder(drop='if_binary',\n",
              "                                                                                 sparse=False))]),\n",
              "                                                  ['FLAG_OWN_CAR',\n",
              "                                                   'FLAG_OWN_REALTY',\n",
              "                                                   'OCCUPATION_TYPE'])])),\n",
              "                ('modelo',\n",
              "                 DecisionTreeClassifier(max_depth=6, random_state=1))])"
            ]
          },
          "metadata": {
            "tags": []
          },
          "execution_count": 76
        }
      ]
    },
    {
      "cell_type": "code",
      "metadata": {
        "id": "V9jn-7R-hp4E",
        "outputId": "75c335c8-9114-47a1-c948-b83ecea80ca6"
      },
      "source": [
        "y_pred_teste = pipe.predict_proba(x_teste)[:, 1]\n",
        "roc_auc_score(y_teste, y_pred_teste)"
      ],
      "execution_count": null,
      "outputs": [
        {
          "output_type": "execute_result",
          "data": {
            "text/plain": [
              "0.7067811837376206"
            ]
          },
          "metadata": {
            "tags": []
          },
          "execution_count": 77
        }
      ]
    },
    {
      "cell_type": "code",
      "metadata": {
        "id": "6clJ4vyhhp4E",
        "outputId": "e68cdbe9-39c4-4320-d0b0-261528cb87fb"
      },
      "source": [
        "y_pred_teste = pipe.predict_proba(x_teste)[:, 1]\n",
        "roc_auc_score(y_teste, y_pred_teste)"
      ],
      "execution_count": null,
      "outputs": [
        {
          "output_type": "execute_result",
          "data": {
            "text/plain": [
              "0.7107944925983262"
            ]
          },
          "metadata": {
            "tags": []
          },
          "execution_count": 47
        }
      ]
    },
    {
      "cell_type": "code",
      "metadata": {
        "id": "zzwrhfzYhp4E",
        "outputId": "794b9784-fd4c-407d-bcb0-b60f62ed2e1f"
      },
      "source": [
        "x_treino.shape"
      ],
      "execution_count": null,
      "outputs": [
        {
          "output_type": "execute_result",
          "data": {
            "text/plain": [
              "(196806, 108)"
            ]
          },
          "metadata": {
            "tags": []
          },
          "execution_count": 74
        }
      ]
    }
  ]
}