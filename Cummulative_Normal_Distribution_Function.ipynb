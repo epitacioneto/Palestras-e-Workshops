{
  "nbformat": 4,
  "nbformat_minor": 0,
  "metadata": {
    "colab": {
      "name": "Cummulative-Normal-Distribution-Function.ipynb",
      "provenance": []
    },
    "kernelspec": {
      "name": "python3",
      "display_name": "Python 3"
    },
    "language_info": {
      "name": "python"
    }
  },
  "cells": [
    {
      "cell_type": "code",
      "metadata": {
        "id": "oqN5YmVLcoBL"
      },
      "source": [
        "import matplotlib.pyplot as plt\n",
        "\n",
        "def PDF(x, mean=0, std_dev=1):\n",
        "  # define e and pi explicitly\n",
        "  e = 2.718281828\n",
        "  pi = 3.1415927\n",
        "  # calculate in two steps\n",
        "  p = 1.0 / (std_dev * ((2 * pi) ** 0.5))\n",
        "  p *= e ** (-0.5 *((x-mean)/std_dev)**2)\n",
        "  return p\n",
        "\n",
        "def CDF(mean=0, std_dev=1, x_left=-5, x_right=5, width=0.0001):\n",
        "  CDF = 0\n",
        "  X = [] # for plotting only\n",
        "  CDF_y = [] # for plotting only\n",
        "\n",
        "  x = x_left + width/2\n",
        "  while x < x_right:\n",
        "    X.append(x) # for plotting only\n",
        "    panel = PDF(x, mean, std_dev) * width # panel under PDF\n",
        "    CDF += panel # running sum of panels = integration\n",
        "    CDF_y.append(CDF) # for plotting only\n",
        "    x += width # current x value\n",
        "  \n",
        "  return CDF, X, CDF_y"
      ],
      "execution_count": 14,
      "outputs": []
    },
    {
      "cell_type": "code",
      "metadata": {
        "colab": {
          "base_uri": "https://localhost:8080/",
          "height": 282
        },
        "id": "bHgqA-AydQNd",
        "outputId": "61395fca-f701-446d-ea2e-c178189d0c66"
      },
      "source": [
        "total_integral, X, CDF_y = CDF()\n",
        "P = [PDF(x) for x in X]\n",
        "total_integral = round(total_integral, 5)\n",
        "msg = f'Total integral of PDF = {total_integral}'\n",
        "print(msg)\n",
        "plt.plot(X, P)\n",
        "plt.plot(X, CDF_y)\n",
        "plt.show()"
      ],
      "execution_count": 20,
      "outputs": [
        {
          "output_type": "stream",
          "text": [
            "Total integral of PDF = 1.0\n"
          ],
          "name": "stdout"
        },
        {
          "output_type": "display_data",
          "data": {
            "image/png": "[encoded data removed]",
            "text/plain": [
              "<Figure size 432x288 with 1 Axes>"
            ]
          },
          "metadata": {
            "needs_background": "light"
          }
        }
      ]
    }
  ]
}